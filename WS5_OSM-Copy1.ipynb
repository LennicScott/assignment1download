{
 "cells": [
  {
   "cell_type": "markdown",
   "id": "e2a55ed7-6de7-4cd2-a32c-70ba4606f4c2",
   "metadata": {},
   "source": [
    "<p><br />\r\n",
    "&nbsp;</p>\r\n",
    "\r\n",
    "<h1>AMS Data1</h1>\r\n",
    "\r\n",
    "<h2>Workshop 5: Networks</h2>\r\n",
    "\r\n",
    "<p>&copy; 2023, TU Delft. Hans Hoogenboom, Creative Commons</p>\r\n",
    "\r\n",
    "<p>&nbsp;</p>"
   ]
  },
  {
   "cell_type": "code",
   "execution_count": 2,
   "id": "eff9a6d5-8c43-435a-8a01-9185ded7f445",
   "metadata": {
    "scrolled": true
   },
   "outputs": [
    {
     "ename": "SyntaxError",
     "evalue": "incomplete input (521405378.py, line 1)",
     "output_type": "error",
     "traceback": [
      "\u001b[1;36m  Cell \u001b[1;32mIn[2], line 1\u001b[1;36m\u001b[0m\n\u001b[1;33m    def my_dysfunctional_function():\u001b[0m\n\u001b[1;37m                                    ^\u001b[0m\n\u001b[1;31mSyntaxError\u001b[0m\u001b[1;31m:\u001b[0m incomplete input\n"
     ]
    }
   ],
   "source": [
    "def my_dysfunctional_function():"
   ]
  },
  {
   "cell_type": "code",
   "execution_count": 3,
   "id": "76ad47e3-9f1d-4df9-a260-f9dc878c1054",
   "metadata": {},
   "outputs": [],
   "source": [
    "def energy_costs(building_volume, energy_price):\n",
    "   pass\n",
    "\n",
    "building_volume = None\n",
    "energy_price = None\n",
    "energy_costs(building_volume, energy_price)"
   ]
  },
  {
   "cell_type": "markdown",
   "id": "b3d33828-7d4c-42ee-9c6d-18680fbe6f7f",
   "metadata": {},
   "source": [
    "# !!!And pen and paper!!! SKETCH"
   ]
  },
  {
   "cell_type": "markdown",
   "id": "291c31b1-6293-4b8b-a8aa-d5bcebce43d3",
   "metadata": {},
   "source": [
    "### Networks\n",
    "Last week we installed Pandas and this week we will have another Panda installed, this time the Geopandas library. In fact we/you are going to install quite a few libraries. I lost track of them so when executing the examples you might get an error about a missing library. Most if not all the time you can do a *pip install missing_library* on the command line, then restart the kernel of your current Jupyter notebook and continue. The restart option is located above under the menu Kernel.\n",
    "\n",
    "When doing any scientific computing with Python, there is a 99.999% chance you are going to use [Numpy](https://numpy.org/). Numpy is often imported with the abbreviation np. The same with Pandas, it is imported as pd. For analysing networks there is a library called [Networkx](https://networkx.org/), imported as nx. After a while you start noticing these abbreviations in the names of methods or functions of other libraries. Then you sort of know what library is used and what datatype or object you will need to input or that will be returned to you. Apart from Numpy, another library that is almost always used under the hood is [Matplotlib](https://matplotlib.org/). A lot of other \"plotters\" are wrapped around functionality provided by Matplotlib.\n",
    "\n",
    "#### NetworkX\n",
    "We can install networkx the obvious way. The functions of NetworkX work on *Graph* objects, the methods of Graphs are used for basic manipulation or reporting. Internally the Graph object is organizaed as your favorite Python structure, the dictionary. A network/graph consists of nodes and edges. The nodes need to be of a hashable type, a type that can't be changed (like a string or a number). Edges can hold any kind of data.\n",
    "\n",
    "You can create an empty Graph using the Graph() function."
   ]
  },
  {
   "cell_type": "code",
   "execution_count": null,
   "id": "a73b48cf-e391-4010-ba56-25176b1028af",
   "metadata": {},
   "outputs": [],
   "source": [
    "import networkx as nx\n",
    "G = nx.Graph()\n",
    "print(type(G))\n",
    "print(G)"
   ]
  }
 ],
 "metadata": {
  "kernelspec": {
   "display_name": "Python 3 (ipykernel)",
   "language": "python",
   "name": "python3"
  },
  "language_info": {
   "codemirror_mode": {
    "name": "ipython",
    "version": 3
   },
   "file_extension": ".py",
   "mimetype": "text/x-python",
   "name": "python",
   "nbconvert_exporter": "python",
   "pygments_lexer": "ipython3",
   "version": "3.11.5"
  }
 },
 "nbformat": 4,
 "nbformat_minor": 5
}
